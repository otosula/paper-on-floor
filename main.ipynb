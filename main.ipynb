{
 "cells": [
  {
   "cell_type": "code",
   "execution_count": 19,
   "metadata": {},
   "outputs": [],
   "source": [
    "import numpy as np\n",
    "import itertools\n",
    "from amplify import gen_symbols, BinaryPoly, sum_poly, Solver, decode_solution\n",
    "from amplify.constraint import penalty, less_equal\n",
    "from amplify.client import FixstarsClient\n",
    "debug = False\n",
    "weight = 10\n"
   ]
  },
  {
   "cell_type": "code",
   "execution_count": 20,
   "metadata": {},
   "outputs": [
    {
     "output_type": "stream",
     "name": "stdout",
     "text": [
      "floor = [9, 16] : papers = [[3, 4], [2, 3], [5, 1]] x 2 x 3\n"
     ]
    }
   ],
   "source": [
    "#---------------------------------------\n",
    "# 定数の定義\n",
    "#---------------------------------------\n",
    "\n",
    "# 床の寸法(cm)\n",
    "# floor_org = [  2,   3]  # for テスト(紙が余る)\n",
    "# floor_org = [  2,   4]  # for テスト(ピッタリ)\n",
    "# floor_org = [  2,   5]  # for テスト(紙が足りない)\n",
    "# floor_org = [ 12,  12]  # for 提出用1\n",
    "floor_org = [  9,  16]  # for 提出用2\n",
    "# floor_org = [  7,  20]  # for 提出用3\n",
    "\n",
    "# 利用可能な紙の種類と寸法(cm)\n",
    "# paper_org = [[ 1,  2]]  # for テスト\n",
    "paper_org = [[ 3,  4], [ 2,  3], [ 5,  1]]  # for 提出用\n",
    "\n",
    "# 利用可能な紙の枚数(種類毎)\n",
    "# paper_num = 2       # for テスト\n",
    "paper_num = 3       # for 提出用\n",
    "\n",
    "# デバッグ表示\n",
    "print('floor = {} : papers = {} x 2 x {}'.format(floor_org, paper_org, paper_num, ))\n"
   ]
  },
  {
   "cell_type": "code",
   "execution_count": 21,
   "metadata": {},
   "outputs": [],
   "source": [
    "#---------------------------------------\n",
    "# 決定変数の定義\n",
    "#---------------------------------------\n",
    "\n",
    "# 紙の向きを考慮に入れる(縦横を入れ替えたサイズを追記)\n",
    "paper = paper_org + [[paper_org[i][1], paper_org[i][0]] for i in range(len(paper_org))]\n",
    "\n",
    "# 紙の総枚数\n",
    "paper_total_num = len(paper) * paper_num\n",
    "\n",
    "# 床の寸法\n",
    "floor_v = int(floor_org[0])\n",
    "floor_h = int(floor_org[1])\n",
    "\n",
    "# ゼロに制約を掛けるバイナリ変数を覚えるための変数\n",
    "start = 0\n",
    "q_zero = gen_symbols(BinaryPoly, start, (1,))\n",
    "\n",
    "# 「紙の種類」と「紙の頂点位置」を示すバイナリ変数を生成\n",
    "start += 1\n",
    "q_paper = gen_symbols(BinaryPoly, start, (paper_total_num, floor_v, floor_h))\n",
    "\n",
    "# 床の重なりを管理するための配列\n",
    "# 配列の作り方がよく分からないのでバイナリ変数の配列を定義して\n",
    "# 中身は使わない（ゼロ制約の変数に足し込む）\n",
    "start += paper_total_num * floor_v * floor_h\n",
    "q_floor = gen_symbols(BinaryPoly, start, (floor_v, floor_h))\n",
    "for i, j in itertools.product(range(floor_v), range(floor_h)):\n",
    "    q_zero[0] += q_floor[i][j]\n"
   ]
  },
  {
   "cell_type": "code",
   "execution_count": 22,
   "metadata": {
    "tags": []
   },
   "outputs": [
    {
     "output_type": "stream",
     "name": "stdout",
     "text": [
      "Collecting Q-bits from papers overlapping on floor 18/18 ... done.\n",
      "Calculating penalty for floor ... done.\n"
     ]
    }
   ],
   "source": [
    "#---------------------------------------\n",
    "# 制約条件の定義(1)：紙は重ならない\n",
    "#---------------------------------------\n",
    "\n",
    "# 「紙の頂点位置」に対する「床の占有領域」を紐付ける\n",
    "for i in range(paper_total_num):\n",
    "    print('\\rCollecting Q-bits from papers overlapping on floor {}/{} ... '.format(i + 1, paper_total_num), end='', flush=True)\n",
    "\n",
    "    # 紙のサイズを取得\n",
    "    p_size_v, p_size_h = paper[i % len(paper)][0], paper[i % len(paper)][1]\n",
    "    # print(p_size_v, p_size_h)\n",
    "\n",
    "    # 重なる紙の位置を集める\n",
    "    for p_v, p_h in itertools.product(range(floor_v), range(floor_h)):\n",
    "\n",
    "        # 床に紙を置くスペースが無い場合はスキップ（ゼロ制約の変数に足し込む）\n",
    "        if (p_v + p_size_v > floor_v) or (p_h + p_size_h > floor_h):\n",
    "            # print('skip:({} x {} = {})'.format(p_v, p_h, q_paper[i][p_v][p_h]))\n",
    "            q_zero[0] += q_paper[i][p_v][p_h]\n",
    "            continue\n",
    "        \n",
    "        # 紙の面積に相当する部分の床に記録する\n",
    "        for f_v, f_h in itertools.product(range(p_v, p_v + p_size_v), range(p_h, p_h + p_size_h)):\n",
    "            q_floor[f_v][f_h] += q_paper[i][p_v][p_h]\n",
    "            # print('add:(paper {} x {} = {}) -> (floor {} x {} = {})'.format(p_v, p_h, q_paper[i][p_v][p_h], f_v, f_h, q_floor[f_v][f_h]))\n",
    "\n",
    "print('done.')\n",
    "\n",
    "# 上で集めた床を共有する紙の位置にless_equal制約（1以下）を掛ける\n",
    "g_overlap = 0\n",
    "g_floor = 0\n",
    "print('Calculating penalty for floor ... ', end='', flush=True)\n",
    "for f_v, f_h in itertools.product(range(floor_v), range(floor_h)):\n",
    "    g_floor = less_equal(q_floor[f_v][f_h], 1)\n",
    "    g_overlap += g_floor\n",
    "print('done.')\n",
    "# print(g_overlap)\n"
   ]
  },
  {
   "cell_type": "code",
   "execution_count": 23,
   "metadata": {},
   "outputs": [
    {
     "output_type": "stream",
     "name": "stdout",
     "text": [
      "Calculating penalty for papers ... done.\n"
     ]
    }
   ],
   "source": [
    "#---------------------------------------\n",
    "# 制約条件の定義(2)：紙は最大で一カ所しか置けない\n",
    "#---------------------------------------\n",
    "\n",
    "# 「紙の種類」と「紙の頂点位置」を示すバイナリ変数にless_equal制約（1以下）を掛ける\n",
    "g_use = 0\n",
    "print('Calculating penalty for papers ... ', end='', flush=True)\n",
    "for i in range(paper_total_num):\n",
    "\n",
    "    # 紙のサイズを取得\n",
    "    p_size_v, p_size_h = paper[i % len(paper)][0], paper[i % len(paper)][1]\n",
    "    # print(p_size_v, p_size_h)\n",
    "    g_paper = 0\n",
    "\n",
    "    # この紙が持つバイナリ変数が制約の対象\n",
    "    for p_v, p_h in itertools.product(range(floor_v), range(floor_h)):\n",
    "\n",
    "        # 床に紙を置くスペースが無い場合はスキップ\n",
    "        if (p_v + p_size_v > floor_v) or (p_h + p_size_h > floor_h):\n",
    "            # print('skip:({} x {} = {})'.format(p_v, p_h, q_paper[i][p_v][p_h]))\n",
    "            # q_zero[0] += q_paper[i][p_v][p_h]\n",
    "            continue\n",
    "\n",
    "        # この紙の頂点の位置を集める\n",
    "        g_paper += q_paper[i][p_v][p_h]\n",
    "\n",
    "    g_use += less_equal(g_paper, 1)\n",
    "    # print('(g_paper {} = {}))'.format(i, g_paper))\n",
    "\n",
    "print('done.')\n",
    "# print(g_use)\n"
   ]
  },
  {
   "cell_type": "code",
   "execution_count": 24,
   "metadata": {},
   "outputs": [
    {
     "output_type": "stream",
     "name": "stdout",
     "text": [
      "Making objective function 18/18 ... done.\n"
     ]
    }
   ],
   "source": [
    "#---------------------------------------\n",
    "# 目的関数：\n",
    "#---------------------------------------\n",
    "\n",
    "# 全ての紙の面積を求める\n",
    "all_p_area = 0\n",
    "for i in range(paper_total_num):\n",
    "    print('\\rMaking objective function {}/{} ... '.format(i + 1, paper_total_num), end='', flush=True)\n",
    "\n",
    "    # 紙のサイズを取得する\n",
    "    p_size_v, p_size_h = paper[i % len(paper)][0], paper[i % len(paper)][1]\n",
    "    \n",
    "    # 紙の面積を計算する\n",
    "    p_area = 0\n",
    "    for p_v, p_h in itertools.product(range(floor_v), range(floor_h)):\n",
    "\n",
    "        # 紙を置くスペースが無い場合はスキップ\n",
    "        if (p_v + p_size_v > floor_v) or (p_h + p_size_h > floor_h):\n",
    "            # print('skip:({} x {} = {})'.format(p_v, p_h, q_paper[i][p_v][p_h]))\n",
    "            # q_zero[0] += q_paper[i][p_v][p_h]\n",
    "            continue\n",
    "        \n",
    "        p_area += q_paper[i][p_v][p_h]\n",
    "    \n",
    "    p_area = (p_area) * (p_size_v * p_size_h)\n",
    "    # print('(p_area = {}))'.format(p_area))\n",
    "\n",
    "    # 全ての紙の面積を求める\n",
    "    all_p_area += p_area\n",
    "\n",
    "# 床の面積から紙の面積を引いたものを最小化する\n",
    "objective = ((floor_v * floor_h) - all_p_area) ** 2\n",
    "print('done.')\n",
    "# print(objective)\n"
   ]
  },
  {
   "cell_type": "code",
   "execution_count": 29,
   "metadata": {},
   "outputs": [
    {
     "output_type": "stream",
     "name": "stdout",
     "text": [
      "Solving by the Fixstars! ... done.\n",
      "1 result(s) was found.\n"
     ]
    }
   ],
   "source": [
    "#---------------------------------------\n",
    "# ソルバーを設定して解く\n",
    "#---------------------------------------\n",
    "\n",
    "# クライアント設定\n",
    "client = FixstarsClient()\n",
    "client.url = \"http://optigan.fixstars.com\"\n",
    "client.parameters.timeout = 60000\n",
    "client.token = \"xxxxxxxxxxxxxxxxxxxxxxxxxxx\"\n",
    "client.parameters.outputs.duplicate = False\n",
    "client.parameters.outputs.num_outputs = 1\n",
    "\n",
    "# ソルバーを設定\n",
    "solver = Solver(client)\n",
    "# solver.filter_solution = False\n",
    "\n",
    "# 使わない量子ビットにゼロ制約を掛ける\n",
    "g_zero = penalty(sum_poly(q_zero))\n",
    "# print(g_zero)\n",
    "\n",
    "# モデルを作る\n",
    "# model = objective + (g_overlap * weight) + (g_use * weight) + (g_zero * weight)\n",
    "model = objective + (g_overlap * weight) + (g_use * weight)\n",
    "\n",
    "print('Solving by the Fixstars! ... ', end='', flush=True)\n",
    "result = solver.solve(model)\n",
    "print('done.')\n",
    "print('{} result(s) was found.'.format(len(result)))\n"
   ]
  },
  {
   "cell_type": "code",
   "execution_count": 30,
   "metadata": {},
   "outputs": [
    {
     "output_type": "stream",
     "name": "stdout",
     "text": [
      "energy = 36.0\n"
     ]
    }
   ],
   "source": [
    "#---------------------------------------\n",
    "# 解の確認\n",
    "#---------------------------------------\n",
    "for sol in result:\n",
    "    if debug:\n",
    "        energy = sol.energy\n",
    "        values = sol.values\n",
    "        print(f\"energy = {sol.energy}, {q_paper} = {decode_solution(q_paper, sol.values)}\")\n",
    "        # print(model.check_constraints(sol.values))\n",
    "    else:\n",
    "        energy = sol.energy\n",
    "        print(f\"energy = {sol.energy}\")\n",
    "    break\n"
   ]
  },
  {
   "cell_type": "code",
   "execution_count": 31,
   "metadata": {},
   "outputs": [
    {
     "output_type": "display_data",
     "data": {
      "text/plain": "<Figure size 1152x648 with 1 Axes>",
      "image/svg+xml": "<?xml version=\"1.0\" encoding=\"utf-8\" standalone=\"no\"?>\n<!DOCTYPE svg PUBLIC \"-//W3C//DTD SVG 1.1//EN\"\n  \"http://www.w3.org/Graphics/SVG/1.1/DTD/svg11.dtd\">\n<svg height=\"524.117344pt\" version=\"1.1\" viewBox=\"0 0 926.925 524.117344\" width=\"926.925pt\" xmlns=\"http://www.w3.org/2000/svg\" xmlns:xlink=\"http://www.w3.org/1999/xlink\">\n <metadata>\n  <rdf:RDF xmlns:cc=\"http://creativecommons.org/ns#\" xmlns:dc=\"http://purl.org/dc/elements/1.1/\" xmlns:rdf=\"http://www.w3.org/1999/02/22-rdf-syntax-ns#\">\n   <cc:Work>\n    <dc:type rdf:resource=\"http://purl.org/dc/dcmitype/StillImage\"/>\n    <dc:date>2021-03-30T19:36:30.560771</dc:date>\n    <dc:format>image/svg+xml</dc:format>\n    <dc:creator>\n     <cc:Agent>\n      <dc:title>Matplotlib v3.4.0, https://matplotlib.org/</dc:title>\n     </cc:Agent>\n    </dc:creator>\n   </cc:Work>\n  </rdf:RDF>\n </metadata>\n <defs>\n  <style type=\"text/css\">*{stroke-linecap:butt;stroke-linejoin:round;}</style>\n </defs>\n <g id=\"figure_1\">\n  <g id=\"patch_1\">\n   <path d=\"M 0 524.117344 \nL 926.925 524.117344 \nL 926.925 0 \nL 0 0 \nz\n\" style=\"fill:none;\"/>\n  </g>\n  <g id=\"axes_1\">\n   <g id=\"patch_2\">\n    <path d=\"M 20.5625 500.239219 \nL 913.3625 500.239219 \nL 913.3625 10.999219 \nL 20.5625 10.999219 \nz\n\" style=\"fill:#ffffff;\"/>\n   </g>\n   <g id=\"patch_3\">\n    <path clip-path=\"url(#p21d77d98db)\" d=\"M 20.5625 174.079219 \nL 243.7625 174.079219 \nL 243.7625 10.999219 \nL 20.5625 10.999219 \nz\n\" style=\"fill:#1f77b4;stroke:#000000;stroke-linejoin:miter;\"/>\n   </g>\n   <g id=\"patch_4\">\n    <path clip-path=\"url(#p21d77d98db)\" d=\"M 522.7625 119.719219 \nL 690.1625 119.719219 \nL 690.1625 10.999219 \nL 522.7625 10.999219 \nz\n\" style=\"fill:#1f77b4;stroke:#000000;stroke-linejoin:miter;\"/>\n   </g>\n   <g id=\"patch_5\">\n    <path clip-path=\"url(#p21d77d98db)\" d=\"M 466.9625 445.879219 \nL 522.7625 445.879219 \nL 522.7625 174.079219 \nL 466.9625 174.079219 \nz\n\" style=\"fill:#1f77b4;stroke:#000000;stroke-linejoin:miter;\"/>\n   </g>\n   <g id=\"patch_6\">\n    <path clip-path=\"url(#p21d77d98db)\" d=\"M 745.9625 500.239219 \nL 913.3625 500.239219 \nL 913.3625 282.799219 \nL 745.9625 282.799219 \nz\n\" style=\"fill:#1f77b4;stroke:#000000;stroke-linejoin:miter;\"/>\n   </g>\n   <g id=\"patch_7\">\n    <path clip-path=\"url(#p21d77d98db)\" d=\"M 690.1625 174.079219 \nL 801.7625 174.079219 \nL 801.7625 10.999219 \nL 690.1625 10.999219 \nz\n\" style=\"fill:#1f77b4;stroke:#000000;stroke-linejoin:miter;\"/>\n   </g>\n   <g id=\"patch_8\">\n    <path clip-path=\"url(#p21d77d98db)\" d=\"M 466.9625 500.239219 \nL 745.9625 500.239219 \nL 745.9625 445.879219 \nL 466.9625 445.879219 \nz\n\" style=\"fill:#1f77b4;stroke:#000000;stroke-linejoin:miter;\"/>\n   </g>\n   <g id=\"patch_9\">\n    <path clip-path=\"url(#p21d77d98db)\" d=\"M 187.9625 445.879219 \nL 411.1625 445.879219 \nL 411.1625 282.799219 \nL 187.9625 282.799219 \nz\n\" style=\"fill:#1f77b4;stroke:#000000;stroke-linejoin:miter;\"/>\n   </g>\n   <g id=\"patch_10\">\n    <path clip-path=\"url(#p21d77d98db)\" d=\"M 20.5625 282.799219 \nL 187.9625 282.799219 \nL 187.9625 174.079219 \nL 20.5625 174.079219 \nz\n\" style=\"fill:#1f77b4;stroke:#000000;stroke-linejoin:miter;\"/>\n   </g>\n   <g id=\"patch_11\">\n    <path clip-path=\"url(#p21d77d98db)\" d=\"M 857.5625 282.799219 \nL 913.3625 282.799219 \nL 913.3625 10.999219 \nL 857.5625 10.999219 \nz\n\" style=\"fill:#1f77b4;stroke:#000000;stroke-linejoin:miter;\"/>\n   </g>\n   <g id=\"patch_12\">\n    <path clip-path=\"url(#p21d77d98db)\" d=\"M 243.7625 228.439219 \nL 411.1625 228.439219 \nL 411.1625 10.999219 \nL 243.7625 10.999219 \nz\n\" style=\"fill:#1f77b4;stroke:#000000;stroke-linejoin:miter;\"/>\n   </g>\n   <g id=\"patch_13\">\n    <path clip-path=\"url(#p21d77d98db)\" d=\"M 411.1625 174.079219 \nL 522.7625 174.079219 \nL 522.7625 10.999219 \nL 411.1625 10.999219 \nz\n\" style=\"fill:#1f77b4;stroke:#000000;stroke-linejoin:miter;\"/>\n   </g>\n   <g id=\"patch_14\">\n    <path clip-path=\"url(#p21d77d98db)\" d=\"M 187.9625 500.239219 \nL 466.9625 500.239219 \nL 466.9625 445.879219 \nL 187.9625 445.879219 \nz\n\" style=\"fill:#1f77b4;stroke:#000000;stroke-linejoin:miter;\"/>\n   </g>\n   <g id=\"patch_15\">\n    <path clip-path=\"url(#p21d77d98db)\" d=\"M 522.7625 445.879219 \nL 745.9625 445.879219 \nL 745.9625 282.799219 \nL 522.7625 282.799219 \nz\n\" style=\"fill:#1f77b4;stroke:#000000;stroke-linejoin:miter;\"/>\n   </g>\n   <g id=\"patch_16\">\n    <path clip-path=\"url(#p21d77d98db)\" d=\"M 634.3625 282.799219 \nL 801.7625 282.799219 \nL 801.7625 174.079219 \nL 634.3625 174.079219 \nz\n\" style=\"fill:#1f77b4;stroke:#000000;stroke-linejoin:miter;\"/>\n   </g>\n   <g id=\"patch_17\">\n    <path clip-path=\"url(#p21d77d98db)\" d=\"M 801.7625 282.799219 \nL 857.5625 282.799219 \nL 857.5625 10.999219 \nL 801.7625 10.999219 \nz\n\" style=\"fill:#1f77b4;stroke:#000000;stroke-linejoin:miter;\"/>\n   </g>\n   <g id=\"patch_18\">\n    <path clip-path=\"url(#p21d77d98db)\" d=\"M 20.5625 500.239219 \nL 187.9625 500.239219 \nL 187.9625 282.799219 \nL 20.5625 282.799219 \nz\n\" style=\"fill:#1f77b4;stroke:#000000;stroke-linejoin:miter;\"/>\n   </g>\n   <g id=\"patch_19\">\n    <path clip-path=\"url(#p21d77d98db)\" d=\"M 522.7625 282.799219 \nL 634.3625 282.799219 \nL 634.3625 119.719219 \nL 522.7625 119.719219 \nz\n\" style=\"fill:#1f77b4;stroke:#000000;stroke-linejoin:miter;\"/>\n   </g>\n   <g id=\"patch_20\">\n    <path clip-path=\"url(#p21d77d98db)\" d=\"M 187.9625 282.799219 \nL 466.9625 282.799219 \nL 466.9625 228.439219 \nL 187.9625 228.439219 \nz\n\" style=\"fill:#1f77b4;stroke:#000000;stroke-linejoin:miter;\"/>\n   </g>\n   <g id=\"matplotlib.axis_1\">\n    <g id=\"xtick_1\">\n     <g id=\"line2d_1\">\n      <defs>\n       <path d=\"M 0 0 \nL 0 3.5 \n\" id=\"m8e84b6c16b\" style=\"stroke:#000000;stroke-width:0.8;\"/>\n      </defs>\n      <g>\n       <use style=\"stroke:#000000;stroke-width:0.8;\" x=\"20.5625\" xlink:href=\"#m8e84b6c16b\" y=\"500.239219\"/>\n      </g>\n     </g>\n     <g id=\"text_1\">\n      <!-- 0 -->\n      <g transform=\"translate(17.38125 514.837656)scale(0.1 -0.1)\">\n       <defs>\n        <path d=\"M 2034 4250 \nQ 1547 4250 1301 3770 \nQ 1056 3291 1056 2328 \nQ 1056 1369 1301 889 \nQ 1547 409 2034 409 \nQ 2525 409 2770 889 \nQ 3016 1369 3016 2328 \nQ 3016 3291 2770 3770 \nQ 2525 4250 2034 4250 \nz\nM 2034 4750 \nQ 2819 4750 3233 4129 \nQ 3647 3509 3647 2328 \nQ 3647 1150 3233 529 \nQ 2819 -91 2034 -91 \nQ 1250 -91 836 529 \nQ 422 1150 422 2328 \nQ 422 3509 836 4129 \nQ 1250 4750 2034 4750 \nz\n\" id=\"DejaVuSans-30\" transform=\"scale(0.015625)\"/>\n       </defs>\n       <use xlink:href=\"#DejaVuSans-30\"/>\n      </g>\n     </g>\n    </g>\n    <g id=\"xtick_2\">\n     <g id=\"line2d_2\">\n      <g>\n       <use style=\"stroke:#000000;stroke-width:0.8;\" x=\"132.1625\" xlink:href=\"#m8e84b6c16b\" y=\"500.239219\"/>\n      </g>\n     </g>\n     <g id=\"text_2\">\n      <!-- 2 -->\n      <g transform=\"translate(128.98125 514.837656)scale(0.1 -0.1)\">\n       <defs>\n        <path d=\"M 1228 531 \nL 3431 531 \nL 3431 0 \nL 469 0 \nL 469 531 \nQ 828 903 1448 1529 \nQ 2069 2156 2228 2338 \nQ 2531 2678 2651 2914 \nQ 2772 3150 2772 3378 \nQ 2772 3750 2511 3984 \nQ 2250 4219 1831 4219 \nQ 1534 4219 1204 4116 \nQ 875 4013 500 3803 \nL 500 4441 \nQ 881 4594 1212 4672 \nQ 1544 4750 1819 4750 \nQ 2544 4750 2975 4387 \nQ 3406 4025 3406 3419 \nQ 3406 3131 3298 2873 \nQ 3191 2616 2906 2266 \nQ 2828 2175 2409 1742 \nQ 1991 1309 1228 531 \nz\n\" id=\"DejaVuSans-32\" transform=\"scale(0.015625)\"/>\n       </defs>\n       <use xlink:href=\"#DejaVuSans-32\"/>\n      </g>\n     </g>\n    </g>\n    <g id=\"xtick_3\">\n     <g id=\"line2d_3\">\n      <g>\n       <use style=\"stroke:#000000;stroke-width:0.8;\" x=\"243.7625\" xlink:href=\"#m8e84b6c16b\" y=\"500.239219\"/>\n      </g>\n     </g>\n     <g id=\"text_3\">\n      <!-- 4 -->\n      <g transform=\"translate(240.58125 514.837656)scale(0.1 -0.1)\">\n       <defs>\n        <path d=\"M 2419 4116 \nL 825 1625 \nL 2419 1625 \nL 2419 4116 \nz\nM 2253 4666 \nL 3047 4666 \nL 3047 1625 \nL 3713 1625 \nL 3713 1100 \nL 3047 1100 \nL 3047 0 \nL 2419 0 \nL 2419 1100 \nL 313 1100 \nL 313 1709 \nL 2253 4666 \nz\n\" id=\"DejaVuSans-34\" transform=\"scale(0.015625)\"/>\n       </defs>\n       <use xlink:href=\"#DejaVuSans-34\"/>\n      </g>\n     </g>\n    </g>\n    <g id=\"xtick_4\">\n     <g id=\"line2d_4\">\n      <g>\n       <use style=\"stroke:#000000;stroke-width:0.8;\" x=\"355.3625\" xlink:href=\"#m8e84b6c16b\" y=\"500.239219\"/>\n      </g>\n     </g>\n     <g id=\"text_4\">\n      <!-- 6 -->\n      <g transform=\"translate(352.18125 514.837656)scale(0.1 -0.1)\">\n       <defs>\n        <path d=\"M 2113 2584 \nQ 1688 2584 1439 2293 \nQ 1191 2003 1191 1497 \nQ 1191 994 1439 701 \nQ 1688 409 2113 409 \nQ 2538 409 2786 701 \nQ 3034 994 3034 1497 \nQ 3034 2003 2786 2293 \nQ 2538 2584 2113 2584 \nz\nM 3366 4563 \nL 3366 3988 \nQ 3128 4100 2886 4159 \nQ 2644 4219 2406 4219 \nQ 1781 4219 1451 3797 \nQ 1122 3375 1075 2522 \nQ 1259 2794 1537 2939 \nQ 1816 3084 2150 3084 \nQ 2853 3084 3261 2657 \nQ 3669 2231 3669 1497 \nQ 3669 778 3244 343 \nQ 2819 -91 2113 -91 \nQ 1303 -91 875 529 \nQ 447 1150 447 2328 \nQ 447 3434 972 4092 \nQ 1497 4750 2381 4750 \nQ 2619 4750 2861 4703 \nQ 3103 4656 3366 4563 \nz\n\" id=\"DejaVuSans-36\" transform=\"scale(0.015625)\"/>\n       </defs>\n       <use xlink:href=\"#DejaVuSans-36\"/>\n      </g>\n     </g>\n    </g>\n    <g id=\"xtick_5\">\n     <g id=\"line2d_5\">\n      <g>\n       <use style=\"stroke:#000000;stroke-width:0.8;\" x=\"466.9625\" xlink:href=\"#m8e84b6c16b\" y=\"500.239219\"/>\n      </g>\n     </g>\n     <g id=\"text_5\">\n      <!-- 8 -->\n      <g transform=\"translate(463.78125 514.837656)scale(0.1 -0.1)\">\n       <defs>\n        <path d=\"M 2034 2216 \nQ 1584 2216 1326 1975 \nQ 1069 1734 1069 1313 \nQ 1069 891 1326 650 \nQ 1584 409 2034 409 \nQ 2484 409 2743 651 \nQ 3003 894 3003 1313 \nQ 3003 1734 2745 1975 \nQ 2488 2216 2034 2216 \nz\nM 1403 2484 \nQ 997 2584 770 2862 \nQ 544 3141 544 3541 \nQ 544 4100 942 4425 \nQ 1341 4750 2034 4750 \nQ 2731 4750 3128 4425 \nQ 3525 4100 3525 3541 \nQ 3525 3141 3298 2862 \nQ 3072 2584 2669 2484 \nQ 3125 2378 3379 2068 \nQ 3634 1759 3634 1313 \nQ 3634 634 3220 271 \nQ 2806 -91 2034 -91 \nQ 1263 -91 848 271 \nQ 434 634 434 1313 \nQ 434 1759 690 2068 \nQ 947 2378 1403 2484 \nz\nM 1172 3481 \nQ 1172 3119 1398 2916 \nQ 1625 2713 2034 2713 \nQ 2441 2713 2670 2916 \nQ 2900 3119 2900 3481 \nQ 2900 3844 2670 4047 \nQ 2441 4250 2034 4250 \nQ 1625 4250 1398 4047 \nQ 1172 3844 1172 3481 \nz\n\" id=\"DejaVuSans-38\" transform=\"scale(0.015625)\"/>\n       </defs>\n       <use xlink:href=\"#DejaVuSans-38\"/>\n      </g>\n     </g>\n    </g>\n    <g id=\"xtick_6\">\n     <g id=\"line2d_6\">\n      <g>\n       <use style=\"stroke:#000000;stroke-width:0.8;\" x=\"578.5625\" xlink:href=\"#m8e84b6c16b\" y=\"500.239219\"/>\n      </g>\n     </g>\n     <g id=\"text_6\">\n      <!-- 10 -->\n      <g transform=\"translate(572.2 514.837656)scale(0.1 -0.1)\">\n       <defs>\n        <path d=\"M 794 531 \nL 1825 531 \nL 1825 4091 \nL 703 3866 \nL 703 4441 \nL 1819 4666 \nL 2450 4666 \nL 2450 531 \nL 3481 531 \nL 3481 0 \nL 794 0 \nL 794 531 \nz\n\" id=\"DejaVuSans-31\" transform=\"scale(0.015625)\"/>\n       </defs>\n       <use xlink:href=\"#DejaVuSans-31\"/>\n       <use x=\"63.623047\" xlink:href=\"#DejaVuSans-30\"/>\n      </g>\n     </g>\n    </g>\n    <g id=\"xtick_7\">\n     <g id=\"line2d_7\">\n      <g>\n       <use style=\"stroke:#000000;stroke-width:0.8;\" x=\"690.1625\" xlink:href=\"#m8e84b6c16b\" y=\"500.239219\"/>\n      </g>\n     </g>\n     <g id=\"text_7\">\n      <!-- 12 -->\n      <g transform=\"translate(683.8 514.837656)scale(0.1 -0.1)\">\n       <use xlink:href=\"#DejaVuSans-31\"/>\n       <use x=\"63.623047\" xlink:href=\"#DejaVuSans-32\"/>\n      </g>\n     </g>\n    </g>\n    <g id=\"xtick_8\">\n     <g id=\"line2d_8\">\n      <g>\n       <use style=\"stroke:#000000;stroke-width:0.8;\" x=\"801.7625\" xlink:href=\"#m8e84b6c16b\" y=\"500.239219\"/>\n      </g>\n     </g>\n     <g id=\"text_8\">\n      <!-- 14 -->\n      <g transform=\"translate(795.4 514.837656)scale(0.1 -0.1)\">\n       <use xlink:href=\"#DejaVuSans-31\"/>\n       <use x=\"63.623047\" xlink:href=\"#DejaVuSans-34\"/>\n      </g>\n     </g>\n    </g>\n    <g id=\"xtick_9\">\n     <g id=\"line2d_9\">\n      <g>\n       <use style=\"stroke:#000000;stroke-width:0.8;\" x=\"913.3625\" xlink:href=\"#m8e84b6c16b\" y=\"500.239219\"/>\n      </g>\n     </g>\n     <g id=\"text_9\">\n      <!-- 16 -->\n      <g transform=\"translate(907 514.837656)scale(0.1 -0.1)\">\n       <use xlink:href=\"#DejaVuSans-31\"/>\n       <use x=\"63.623047\" xlink:href=\"#DejaVuSans-36\"/>\n      </g>\n     </g>\n    </g>\n   </g>\n   <g id=\"matplotlib.axis_2\">\n    <g id=\"ytick_1\">\n     <g id=\"line2d_10\">\n      <defs>\n       <path d=\"M 0 0 \nL -3.5 0 \n\" id=\"mf48c11856b\" style=\"stroke:#000000;stroke-width:0.8;\"/>\n      </defs>\n      <g>\n       <use style=\"stroke:#000000;stroke-width:0.8;\" x=\"20.5625\" xlink:href=\"#mf48c11856b\" y=\"500.239219\"/>\n      </g>\n     </g>\n     <g id=\"text_10\">\n      <!-- 0 -->\n      <g transform=\"translate(7.2 504.038438)scale(0.1 -0.1)\">\n       <use xlink:href=\"#DejaVuSans-30\"/>\n      </g>\n     </g>\n    </g>\n    <g id=\"ytick_2\">\n     <g id=\"line2d_11\">\n      <g>\n       <use style=\"stroke:#000000;stroke-width:0.8;\" x=\"20.5625\" xlink:href=\"#mf48c11856b\" y=\"445.879219\"/>\n      </g>\n     </g>\n     <g id=\"text_11\">\n      <!-- 1 -->\n      <g transform=\"translate(7.2 449.678438)scale(0.1 -0.1)\">\n       <use xlink:href=\"#DejaVuSans-31\"/>\n      </g>\n     </g>\n    </g>\n    <g id=\"ytick_3\">\n     <g id=\"line2d_12\">\n      <g>\n       <use style=\"stroke:#000000;stroke-width:0.8;\" x=\"20.5625\" xlink:href=\"#mf48c11856b\" y=\"391.519219\"/>\n      </g>\n     </g>\n     <g id=\"text_12\">\n      <!-- 2 -->\n      <g transform=\"translate(7.2 395.318438)scale(0.1 -0.1)\">\n       <use xlink:href=\"#DejaVuSans-32\"/>\n      </g>\n     </g>\n    </g>\n    <g id=\"ytick_4\">\n     <g id=\"line2d_13\">\n      <g>\n       <use style=\"stroke:#000000;stroke-width:0.8;\" x=\"20.5625\" xlink:href=\"#mf48c11856b\" y=\"337.159219\"/>\n      </g>\n     </g>\n     <g id=\"text_13\">\n      <!-- 3 -->\n      <g transform=\"translate(7.2 340.958438)scale(0.1 -0.1)\">\n       <defs>\n        <path d=\"M 2597 2516 \nQ 3050 2419 3304 2112 \nQ 3559 1806 3559 1356 \nQ 3559 666 3084 287 \nQ 2609 -91 1734 -91 \nQ 1441 -91 1130 -33 \nQ 819 25 488 141 \nL 488 750 \nQ 750 597 1062 519 \nQ 1375 441 1716 441 \nQ 2309 441 2620 675 \nQ 2931 909 2931 1356 \nQ 2931 1769 2642 2001 \nQ 2353 2234 1838 2234 \nL 1294 2234 \nL 1294 2753 \nL 1863 2753 \nQ 2328 2753 2575 2939 \nQ 2822 3125 2822 3475 \nQ 2822 3834 2567 4026 \nQ 2313 4219 1838 4219 \nQ 1578 4219 1281 4162 \nQ 984 4106 628 3988 \nL 628 4550 \nQ 988 4650 1302 4700 \nQ 1616 4750 1894 4750 \nQ 2613 4750 3031 4423 \nQ 3450 4097 3450 3541 \nQ 3450 3153 3228 2886 \nQ 3006 2619 2597 2516 \nz\n\" id=\"DejaVuSans-33\" transform=\"scale(0.015625)\"/>\n       </defs>\n       <use xlink:href=\"#DejaVuSans-33\"/>\n      </g>\n     </g>\n    </g>\n    <g id=\"ytick_5\">\n     <g id=\"line2d_14\">\n      <g>\n       <use style=\"stroke:#000000;stroke-width:0.8;\" x=\"20.5625\" xlink:href=\"#mf48c11856b\" y=\"282.799219\"/>\n      </g>\n     </g>\n     <g id=\"text_14\">\n      <!-- 4 -->\n      <g transform=\"translate(7.2 286.598438)scale(0.1 -0.1)\">\n       <use xlink:href=\"#DejaVuSans-34\"/>\n      </g>\n     </g>\n    </g>\n    <g id=\"ytick_6\">\n     <g id=\"line2d_15\">\n      <g>\n       <use style=\"stroke:#000000;stroke-width:0.8;\" x=\"20.5625\" xlink:href=\"#mf48c11856b\" y=\"228.439219\"/>\n      </g>\n     </g>\n     <g id=\"text_15\">\n      <!-- 5 -->\n      <g transform=\"translate(7.2 232.238438)scale(0.1 -0.1)\">\n       <defs>\n        <path d=\"M 691 4666 \nL 3169 4666 \nL 3169 4134 \nL 1269 4134 \nL 1269 2991 \nQ 1406 3038 1543 3061 \nQ 1681 3084 1819 3084 \nQ 2600 3084 3056 2656 \nQ 3513 2228 3513 1497 \nQ 3513 744 3044 326 \nQ 2575 -91 1722 -91 \nQ 1428 -91 1123 -41 \nQ 819 9 494 109 \nL 494 744 \nQ 775 591 1075 516 \nQ 1375 441 1709 441 \nQ 2250 441 2565 725 \nQ 2881 1009 2881 1497 \nQ 2881 1984 2565 2268 \nQ 2250 2553 1709 2553 \nQ 1456 2553 1204 2497 \nQ 953 2441 691 2322 \nL 691 4666 \nz\n\" id=\"DejaVuSans-35\" transform=\"scale(0.015625)\"/>\n       </defs>\n       <use xlink:href=\"#DejaVuSans-35\"/>\n      </g>\n     </g>\n    </g>\n    <g id=\"ytick_7\">\n     <g id=\"line2d_16\">\n      <g>\n       <use style=\"stroke:#000000;stroke-width:0.8;\" x=\"20.5625\" xlink:href=\"#mf48c11856b\" y=\"174.079219\"/>\n      </g>\n     </g>\n     <g id=\"text_16\">\n      <!-- 6 -->\n      <g transform=\"translate(7.2 177.878438)scale(0.1 -0.1)\">\n       <use xlink:href=\"#DejaVuSans-36\"/>\n      </g>\n     </g>\n    </g>\n    <g id=\"ytick_8\">\n     <g id=\"line2d_17\">\n      <g>\n       <use style=\"stroke:#000000;stroke-width:0.8;\" x=\"20.5625\" xlink:href=\"#mf48c11856b\" y=\"119.719219\"/>\n      </g>\n     </g>\n     <g id=\"text_17\">\n      <!-- 7 -->\n      <g transform=\"translate(7.2 123.518438)scale(0.1 -0.1)\">\n       <defs>\n        <path d=\"M 525 4666 \nL 3525 4666 \nL 3525 4397 \nL 1831 0 \nL 1172 0 \nL 2766 4134 \nL 525 4134 \nL 525 4666 \nz\n\" id=\"DejaVuSans-37\" transform=\"scale(0.015625)\"/>\n       </defs>\n       <use xlink:href=\"#DejaVuSans-37\"/>\n      </g>\n     </g>\n    </g>\n    <g id=\"ytick_9\">\n     <g id=\"line2d_18\">\n      <g>\n       <use style=\"stroke:#000000;stroke-width:0.8;\" x=\"20.5625\" xlink:href=\"#mf48c11856b\" y=\"65.359219\"/>\n      </g>\n     </g>\n     <g id=\"text_18\">\n      <!-- 8 -->\n      <g transform=\"translate(7.2 69.158438)scale(0.1 -0.1)\">\n       <use xlink:href=\"#DejaVuSans-38\"/>\n      </g>\n     </g>\n    </g>\n    <g id=\"ytick_10\">\n     <g id=\"line2d_19\">\n      <g>\n       <use style=\"stroke:#000000;stroke-width:0.8;\" x=\"20.5625\" xlink:href=\"#mf48c11856b\" y=\"10.999219\"/>\n      </g>\n     </g>\n     <g id=\"text_19\">\n      <!-- 9 -->\n      <g transform=\"translate(7.2 14.798438)scale(0.1 -0.1)\">\n       <defs>\n        <path d=\"M 703 97 \nL 703 672 \nQ 941 559 1184 500 \nQ 1428 441 1663 441 \nQ 2288 441 2617 861 \nQ 2947 1281 2994 2138 \nQ 2813 1869 2534 1725 \nQ 2256 1581 1919 1581 \nQ 1219 1581 811 2004 \nQ 403 2428 403 3163 \nQ 403 3881 828 4315 \nQ 1253 4750 1959 4750 \nQ 2769 4750 3195 4129 \nQ 3622 3509 3622 2328 \nQ 3622 1225 3098 567 \nQ 2575 -91 1691 -91 \nQ 1453 -91 1209 -44 \nQ 966 3 703 97 \nz\nM 1959 2075 \nQ 2384 2075 2632 2365 \nQ 2881 2656 2881 3163 \nQ 2881 3666 2632 3958 \nQ 2384 4250 1959 4250 \nQ 1534 4250 1286 3958 \nQ 1038 3666 1038 3163 \nQ 1038 2656 1286 2365 \nQ 1534 2075 1959 2075 \nz\n\" id=\"DejaVuSans-39\" transform=\"scale(0.015625)\"/>\n       </defs>\n       <use xlink:href=\"#DejaVuSans-39\"/>\n      </g>\n     </g>\n    </g>\n   </g>\n   <g id=\"patch_21\">\n    <path d=\"M 20.5625 500.239219 \nL 20.5625 10.999219 \n\" style=\"fill:none;stroke:#000000;stroke-linecap:square;stroke-linejoin:miter;stroke-width:0.8;\"/>\n   </g>\n   <g id=\"patch_22\">\n    <path d=\"M 913.3625 500.239219 \nL 913.3625 10.999219 \n\" style=\"fill:none;stroke:#000000;stroke-linecap:square;stroke-linejoin:miter;stroke-width:0.8;\"/>\n   </g>\n   <g id=\"patch_23\">\n    <path d=\"M 20.5625 500.239219 \nL 913.3625 500.239219 \n\" style=\"fill:none;stroke:#000000;stroke-linecap:square;stroke-linejoin:miter;stroke-width:0.8;\"/>\n   </g>\n   <g id=\"patch_24\">\n    <path d=\"M 20.5625 10.999219 \nL 913.3625 10.999219 \n\" style=\"fill:none;stroke:#000000;stroke-linecap:square;stroke-linejoin:miter;stroke-width:0.8;\"/>\n   </g>\n   <g id=\"text_20\">\n    <!-- 0 -->\n    <g transform=\"translate(48.4625 146.899219)scale(0.1 -0.1)\">\n     <use xlink:href=\"#DejaVuSans-30\"/>\n    </g>\n   </g>\n   <g id=\"text_21\">\n    <!-- 1 -->\n    <g transform=\"translate(550.6625 92.539219)scale(0.1 -0.1)\">\n     <use xlink:href=\"#DejaVuSans-31\"/>\n    </g>\n   </g>\n   <g id=\"text_22\">\n    <!-- 2 -->\n    <g transform=\"translate(494.8625 418.699219)scale(0.1 -0.1)\">\n     <use xlink:href=\"#DejaVuSans-32\"/>\n    </g>\n   </g>\n   <g id=\"text_23\">\n    <!-- 3 -->\n    <g transform=\"translate(773.8625 473.059219)scale(0.1 -0.1)\">\n     <use xlink:href=\"#DejaVuSans-33\"/>\n    </g>\n   </g>\n   <g id=\"text_24\">\n    <!-- 4 -->\n    <g transform=\"translate(718.0625 146.899219)scale(0.1 -0.1)\">\n     <use xlink:href=\"#DejaVuSans-34\"/>\n    </g>\n   </g>\n   <g id=\"text_25\">\n    <!-- 5 -->\n    <g transform=\"translate(494.8625 473.059219)scale(0.1 -0.1)\">\n     <use xlink:href=\"#DejaVuSans-35\"/>\n    </g>\n   </g>\n   <g id=\"text_26\">\n    <!-- 6 -->\n    <g transform=\"translate(215.8625 418.699219)scale(0.1 -0.1)\">\n     <use xlink:href=\"#DejaVuSans-36\"/>\n    </g>\n   </g>\n   <g id=\"text_27\">\n    <!-- 7 -->\n    <g transform=\"translate(48.4625 255.619219)scale(0.1 -0.1)\">\n     <use xlink:href=\"#DejaVuSans-37\"/>\n    </g>\n   </g>\n   <g id=\"text_28\">\n    <!-- 8 -->\n    <g transform=\"translate(885.4625 255.619219)scale(0.1 -0.1)\">\n     <use xlink:href=\"#DejaVuSans-38\"/>\n    </g>\n   </g>\n   <g id=\"text_29\">\n    <!-- 9 -->\n    <g transform=\"translate(271.6625 201.259219)scale(0.1 -0.1)\">\n     <use xlink:href=\"#DejaVuSans-39\"/>\n    </g>\n   </g>\n   <g id=\"text_30\">\n    <!-- 10 -->\n    <g transform=\"translate(439.0625 146.899219)scale(0.1 -0.1)\">\n     <use xlink:href=\"#DejaVuSans-31\"/>\n     <use x=\"63.623047\" xlink:href=\"#DejaVuSans-30\"/>\n    </g>\n   </g>\n   <g id=\"text_31\">\n    <!-- 11 -->\n    <g transform=\"translate(215.8625 473.059219)scale(0.1 -0.1)\">\n     <use xlink:href=\"#DejaVuSans-31\"/>\n     <use x=\"63.623047\" xlink:href=\"#DejaVuSans-31\"/>\n    </g>\n   </g>\n   <g id=\"text_32\">\n    <!-- 12 -->\n    <g transform=\"translate(550.6625 418.699219)scale(0.1 -0.1)\">\n     <use xlink:href=\"#DejaVuSans-31\"/>\n     <use x=\"63.623047\" xlink:href=\"#DejaVuSans-32\"/>\n    </g>\n   </g>\n   <g id=\"text_33\">\n    <!-- 13 -->\n    <g transform=\"translate(662.2625 255.619219)scale(0.1 -0.1)\">\n     <use xlink:href=\"#DejaVuSans-31\"/>\n     <use x=\"63.623047\" xlink:href=\"#DejaVuSans-33\"/>\n    </g>\n   </g>\n   <g id=\"text_34\">\n    <!-- 14 -->\n    <g transform=\"translate(829.6625 255.619219)scale(0.1 -0.1)\">\n     <use xlink:href=\"#DejaVuSans-31\"/>\n     <use x=\"63.623047\" xlink:href=\"#DejaVuSans-34\"/>\n    </g>\n   </g>\n   <g id=\"text_35\">\n    <!-- 15 -->\n    <g transform=\"translate(48.4625 473.059219)scale(0.1 -0.1)\">\n     <use xlink:href=\"#DejaVuSans-31\"/>\n     <use x=\"63.623047\" xlink:href=\"#DejaVuSans-35\"/>\n    </g>\n   </g>\n   <g id=\"text_36\">\n    <!-- 16 -->\n    <g transform=\"translate(550.6625 255.619219)scale(0.1 -0.1)\">\n     <use xlink:href=\"#DejaVuSans-31\"/>\n     <use x=\"63.623047\" xlink:href=\"#DejaVuSans-36\"/>\n    </g>\n   </g>\n   <g id=\"text_37\">\n    <!-- 17 -->\n    <g transform=\"translate(215.8625 255.619219)scale(0.1 -0.1)\">\n     <use xlink:href=\"#DejaVuSans-31\"/>\n     <use x=\"63.623047\" xlink:href=\"#DejaVuSans-37\"/>\n    </g>\n   </g>\n  </g>\n </g>\n <defs>\n  <clipPath id=\"p21d77d98db\">\n   <rect height=\"489.24\" width=\"892.8\" x=\"20.5625\" y=\"10.999219\"/>\n  </clipPath>\n </defs>\n</svg>\n",
      "image/png": "[encoded data removed]"
     },
     "metadata": {
      "needs_background": "light"
     }
    }
   ],
   "source": [
    "#---------------------------------------\n",
    "# 図の作成\n",
    "#---------------------------------------\n",
    "import matplotlib.pyplot as plt\n",
    "import matplotlib.patches as patches\n",
    "\n",
    "# 計算結果を取得\n",
    "a_paper = decode_solution(q_paper, sol.values)\n",
    "\n",
    "# 床を描画\n",
    "fig = plt.figure(figsize=(floor_h, floor_v))\n",
    "ax = plt.axes()\n",
    "ax.set_ylim(0, floor_v)\n",
    "ax.set_xlim(0, floor_h)\n",
    "\n",
    "# 紙を描画\n",
    "for i in range(paper_total_num):\n",
    "    for p_v, p_h in itertools.product(range(floor_v), range(floor_h)):\n",
    "        if a_paper[i][p_v][p_h] == 1:\n",
    "            p_size_v, p_size_h = paper[i % len(paper)][0], paper[i % len(paper)][1]\n",
    "            r = patches.Rectangle(xy=(p_h, p_v), width=p_size_h, height=p_size_v, ec='#000000', fill=True)\n",
    "            plt.text(p_h+0.5, p_v+0.5, str(i))\n",
    "            ax.add_patch(r)\n",
    "            break\n",
    "\n",
    "plt.show()\n",
    "\n",
    "# 画像を保存する\n",
    "figname = './' + str(floor_org[0]) + 'x' + str(floor_org[1])\n",
    "fig.savefig(figname + \".png\")\n"
   ]
  },
  {
   "cell_type": "code",
   "execution_count": null,
   "metadata": {},
   "outputs": [],
   "source": []
  }
 ],
 "metadata": {
  "kernelspec": {
   "display_name": "Python 3",
   "language": "python",
   "name": "python3"
  },
  "language_info": {
   "codemirror_mode": {
    "name": "ipython",
    "version": 3
   },
   "file_extension": ".py",
   "mimetype": "text/x-python",
   "name": "python",
   "nbconvert_exporter": "python",
   "pygments_lexer": "ipython3",
   "version": "3.8.5-final"
  }
 },
 "nbformat": 4,
 "nbformat_minor": 2
}